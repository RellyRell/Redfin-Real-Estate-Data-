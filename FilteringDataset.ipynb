{
  "metadata": {
    "kernelspec": {
      "name": "python",
      "display_name": "Python (Pyodide)",
      "language": "python"
    },
    "language_info": {
      "codemirror_mode": {
        "name": "python",
        "version": 3
      },
      "file_extension": ".py",
      "mimetype": "text/x-python",
      "name": "python",
      "nbconvert_exporter": "python",
      "pygments_lexer": "ipython3",
      "version": "3.8"
    }
  },
  "nbformat_minor": 4,
  "nbformat": 4,
  "cells": [
    {
      "cell_type": "code",
      "source": "import pandas as pd",
      "metadata": {
        "trusted": true
      },
      "outputs": [],
      "execution_count": 1
    },
    {
      "cell_type": "code",
      "source": "df = pd.read_csv('redfin_usa_properties_dataset_sample.csv')",
      "metadata": {
        "trusted": true
      },
      "outputs": [],
      "execution_count": 2
    },
    {
      "cell_type": "code",
      "source": "df.head()",
      "metadata": {
        "trusted": true
      },
      "outputs": [
        {
          "execution_count": 3,
          "output_type": "execute_result",
          "data": {
            "text/plain": "                                                 url  \\\n0  https://www.redfin.com/SC/EASTOVER/HICKORY-HIL...   \n1  https://www.redfin.com/NY/Flushing/147-35-38th...   \n2  https://www.redfin.com/TX/Unknown/1024-Indigo-...   \n3  https://www.redfin.com/OR/Redmond/3439-NW-9th-...   \n4  https://www.redfin.com/IL/Chicago/1545-N-Larra...   \n\n                         name     price formatted_price currency  \\\n0             Hickory Hill Rd   40000.0         $40,000      USD   \n1    147-35 38th Ave Unit B37  415000.0        $415,000      USD   \n2          1024 Indigo Sky St  240950.0        $240,950      USD   \n3              3439 NW 9th St  466995.0        $466,995      USD   \n4  1545 N Larrabee St Unit 2N  489900.0        $489,900      USD   \n\n                      address  locality region  postal_code country  ...  \\\n0             Hickory Hill Rd  Eastover     SC        29044      US  ...   \n1    147-35 38th Ave Unit B37  Flushing     NY        11354      US  ...   \n2          1024 Indigo Sky St   El Paso     TX        79928      US  ...   \n3              3439 NW 9th St   Redmond     OR        97756      US  ...   \n4  1545 N Larrabee St Unit 2N   Chicago     IL        60610      US  ...   \n\n    longitude                                        description baths beds  \\\n0  -80.681014  This 4.13 ac of wooded land is ready for you b...     -  NaN   \n1  -73.817481  Large and Sunny Two Bedroom Coop Apartment in ...     1  2.0   \n2 -106.206967  The Myrtle by Saratoga Homes. A 1 Story, 4 Bed...     3  4.0   \n3 -121.178761  At 1979 square feet, the Orchard Encore on lot...     2  4.0   \n4  -87.643162  Spacious Two Bedroom Condo residing in an Inti...     2  2.0   \n\n    sqft                                   property_details  \\\n0      -  [{'Status': 'Active'}, {'Time on Redfin': '230...   \n1      -  [{'Status': 'Active'}, {'Time on Redfin': '201...   \n2  1,687  [{'Status': 'Pending'}, {'Time on Redfin': '13...   \n3  1,979  [{'Status': 'Pending'}, {'Time on Redfin': '12...   \n4  1,550  [{'Status': 'Active'}, {'Time on Redfin': '17 ...   \n\n                                              images  \\\n0                                                NaN   \n1  https://ssl.cdn-redfin.com/photo/269/mbpaddedw...   \n2  https://ssl.cdn-redfin.com/photo/183/mbpaddedw...   \n3  https://ssl.cdn-redfin.com/photo/199/mbpaddedw...   \n4  https://ssl.cdn-redfin.com/photo/68/mbpaddedwi...   \n\n                                           listed_by  \\\n0  Listed by Glen Levine  • Keller Williams Columbia   \n1  Listing by Nadine Persaud  • All Area Brokerag...   \n2  Listed by Octavio Duarte •TREC #0616335 • SITE...   \n3  Listed by Lexxye Haggard  • New Home Star Oreg...   \n4                 Listed by Kieran Conlon  • Compass   \n\n                                uniq_id           scraped_at  \n0  efb7c6cf-dbb1-5e4e-9028-32bc46800252  17/04/2022 21:21:33  \n1  e10a3655-1719-57e7-8d9d-984c82584c73  17/04/2022 21:21:34  \n2  fbadbf86-3ee5-5100-a163-2acd162c43e5  17/04/2022 21:21:34  \n3  ba379e0c-5517-56a5-bd93-6e9620577ebc  17/04/2022 21:21:35  \n4  c22132b1-1809-5428-bd6c-59de7edf3dff  17/04/2022 21:21:35  \n\n[5 rows x 21 columns]",
            "text/html": "<div>\n<style scoped>\n    .dataframe tbody tr th:only-of-type {\n        vertical-align: middle;\n    }\n\n    .dataframe tbody tr th {\n        vertical-align: top;\n    }\n\n    .dataframe thead th {\n        text-align: right;\n    }\n</style>\n<table border=\"1\" class=\"dataframe\">\n  <thead>\n    <tr style=\"text-align: right;\">\n      <th></th>\n      <th>url</th>\n      <th>name</th>\n      <th>price</th>\n      <th>formatted_price</th>\n      <th>currency</th>\n      <th>address</th>\n      <th>locality</th>\n      <th>region</th>\n      <th>postal_code</th>\n      <th>country</th>\n      <th>...</th>\n      <th>longitude</th>\n      <th>description</th>\n      <th>baths</th>\n      <th>beds</th>\n      <th>sqft</th>\n      <th>property_details</th>\n      <th>images</th>\n      <th>listed_by</th>\n      <th>uniq_id</th>\n      <th>scraped_at</th>\n    </tr>\n  </thead>\n  <tbody>\n    <tr>\n      <th>0</th>\n      <td>https://www.redfin.com/SC/EASTOVER/HICKORY-HIL...</td>\n      <td>Hickory Hill Rd</td>\n      <td>40000.0</td>\n      <td>$40,000</td>\n      <td>USD</td>\n      <td>Hickory Hill Rd</td>\n      <td>Eastover</td>\n      <td>SC</td>\n      <td>29044</td>\n      <td>US</td>\n      <td>...</td>\n      <td>-80.681014</td>\n      <td>This 4.13 ac of wooded land is ready for you b...</td>\n      <td>-</td>\n      <td>NaN</td>\n      <td>-</td>\n      <td>[{'Status': 'Active'}, {'Time on Redfin': '230...</td>\n      <td>NaN</td>\n      <td>Listed by Glen Levine  • Keller Williams Columbia</td>\n      <td>efb7c6cf-dbb1-5e4e-9028-32bc46800252</td>\n      <td>17/04/2022 21:21:33</td>\n    </tr>\n    <tr>\n      <th>1</th>\n      <td>https://www.redfin.com/NY/Flushing/147-35-38th...</td>\n      <td>147-35 38th Ave Unit B37</td>\n      <td>415000.0</td>\n      <td>$415,000</td>\n      <td>USD</td>\n      <td>147-35 38th Ave Unit B37</td>\n      <td>Flushing</td>\n      <td>NY</td>\n      <td>11354</td>\n      <td>US</td>\n      <td>...</td>\n      <td>-73.817481</td>\n      <td>Large and Sunny Two Bedroom Coop Apartment in ...</td>\n      <td>1</td>\n      <td>2.0</td>\n      <td>-</td>\n      <td>[{'Status': 'Active'}, {'Time on Redfin': '201...</td>\n      <td>https://ssl.cdn-redfin.com/photo/269/mbpaddedw...</td>\n      <td>Listing by Nadine Persaud  • All Area Brokerag...</td>\n      <td>e10a3655-1719-57e7-8d9d-984c82584c73</td>\n      <td>17/04/2022 21:21:34</td>\n    </tr>\n    <tr>\n      <th>2</th>\n      <td>https://www.redfin.com/TX/Unknown/1024-Indigo-...</td>\n      <td>1024 Indigo Sky St</td>\n      <td>240950.0</td>\n      <td>$240,950</td>\n      <td>USD</td>\n      <td>1024 Indigo Sky St</td>\n      <td>El Paso</td>\n      <td>TX</td>\n      <td>79928</td>\n      <td>US</td>\n      <td>...</td>\n      <td>-106.206967</td>\n      <td>The Myrtle by Saratoga Homes. A 1 Story, 4 Bed...</td>\n      <td>3</td>\n      <td>4.0</td>\n      <td>1,687</td>\n      <td>[{'Status': 'Pending'}, {'Time on Redfin': '13...</td>\n      <td>https://ssl.cdn-redfin.com/photo/183/mbpaddedw...</td>\n      <td>Listed by Octavio Duarte •TREC #0616335 • SITE...</td>\n      <td>fbadbf86-3ee5-5100-a163-2acd162c43e5</td>\n      <td>17/04/2022 21:21:34</td>\n    </tr>\n    <tr>\n      <th>3</th>\n      <td>https://www.redfin.com/OR/Redmond/3439-NW-9th-...</td>\n      <td>3439 NW 9th St</td>\n      <td>466995.0</td>\n      <td>$466,995</td>\n      <td>USD</td>\n      <td>3439 NW 9th St</td>\n      <td>Redmond</td>\n      <td>OR</td>\n      <td>97756</td>\n      <td>US</td>\n      <td>...</td>\n      <td>-121.178761</td>\n      <td>At 1979 square feet, the Orchard Encore on lot...</td>\n      <td>2</td>\n      <td>4.0</td>\n      <td>1,979</td>\n      <td>[{'Status': 'Pending'}, {'Time on Redfin': '12...</td>\n      <td>https://ssl.cdn-redfin.com/photo/199/mbpaddedw...</td>\n      <td>Listed by Lexxye Haggard  • New Home Star Oreg...</td>\n      <td>ba379e0c-5517-56a5-bd93-6e9620577ebc</td>\n      <td>17/04/2022 21:21:35</td>\n    </tr>\n    <tr>\n      <th>4</th>\n      <td>https://www.redfin.com/IL/Chicago/1545-N-Larra...</td>\n      <td>1545 N Larrabee St Unit 2N</td>\n      <td>489900.0</td>\n      <td>$489,900</td>\n      <td>USD</td>\n      <td>1545 N Larrabee St Unit 2N</td>\n      <td>Chicago</td>\n      <td>IL</td>\n      <td>60610</td>\n      <td>US</td>\n      <td>...</td>\n      <td>-87.643162</td>\n      <td>Spacious Two Bedroom Condo residing in an Inti...</td>\n      <td>2</td>\n      <td>2.0</td>\n      <td>1,550</td>\n      <td>[{'Status': 'Active'}, {'Time on Redfin': '17 ...</td>\n      <td>https://ssl.cdn-redfin.com/photo/68/mbpaddedwi...</td>\n      <td>Listed by Kieran Conlon  • Compass</td>\n      <td>c22132b1-1809-5428-bd6c-59de7edf3dff</td>\n      <td>17/04/2022 21:21:35</td>\n    </tr>\n  </tbody>\n</table>\n<p>5 rows × 21 columns</p>\n</div>"
          },
          "metadata": {}
        }
      ],
      "execution_count": 3
    },
    {
      "cell_type": "code",
      "source": "df.info()",
      "metadata": {
        "trusted": true
      },
      "outputs": [
        {
          "name": "stdout",
          "text": "<class 'pandas.core.frame.DataFrame'>\nRangeIndex: 39 entries, 0 to 38\nData columns (total 21 columns):\n #   Column            Non-Null Count  Dtype  \n---  ------            --------------  -----  \n 0   url               39 non-null     object \n 1   name              39 non-null     object \n 2   price             38 non-null     float64\n 3   formatted_price   37 non-null     object \n 4   currency          39 non-null     object \n 5   address           39 non-null     object \n 6   locality          39 non-null     object \n 7   region            39 non-null     object \n 8   postal_code       39 non-null     int64  \n 9   country           39 non-null     object \n 10  latitude          36 non-null     float64\n 11  longitude         36 non-null     float64\n 12  description       38 non-null     object \n 13  baths             39 non-null     object \n 14  beds              30 non-null     float64\n 15  sqft              39 non-null     object \n 16  property_details  39 non-null     object \n 17  images            28 non-null     object \n 18  listed_by         37 non-null     object \n 19  uniq_id           39 non-null     object \n 20  scraped_at        39 non-null     object \ndtypes: float64(4), int64(1), object(16)\nmemory usage: 4.0+ KB\n",
          "output_type": "stream"
        }
      ],
      "execution_count": 4
    },
    {
      "cell_type": "code",
      "source": "df.isna().sum()",
      "metadata": {
        "trusted": true
      },
      "outputs": [
        {
          "execution_count": 5,
          "output_type": "execute_result",
          "data": {
            "text/plain": "url                  0\nname                 0\nprice                1\nformatted_price      2\ncurrency             0\naddress              0\nlocality             0\nregion               0\npostal_code          0\ncountry              0\nlatitude             3\nlongitude            3\ndescription          1\nbaths                0\nbeds                 9\nsqft                 0\nproperty_details     0\nimages              11\nlisted_by            2\nuniq_id              0\nscraped_at           0\ndtype: int64"
          },
          "metadata": {}
        }
      ],
      "execution_count": 5
    },
    {
      "cell_type": "code",
      "source": "df.drop(columns='images', inplace=True)",
      "metadata": {
        "trusted": true
      },
      "outputs": [],
      "execution_count": 6
    },
    {
      "cell_type": "code",
      "source": "df.isna().sum()",
      "metadata": {
        "trusted": true
      },
      "outputs": [
        {
          "execution_count": 7,
          "output_type": "execute_result",
          "data": {
            "text/plain": "url                 0\nname                0\nprice               1\nformatted_price     2\ncurrency            0\naddress             0\nlocality            0\nregion              0\npostal_code         0\ncountry             0\nlatitude            3\nlongitude           3\ndescription         1\nbaths               0\nbeds                9\nsqft                0\nproperty_details    0\nlisted_by           2\nuniq_id             0\nscraped_at          0\ndtype: int64"
          },
          "metadata": {}
        }
      ],
      "execution_count": 7
    },
    {
      "cell_type": "code",
      "source": "df.fillna(0, inplace=True)",
      "metadata": {
        "trusted": true
      },
      "outputs": [],
      "execution_count": 8
    },
    {
      "cell_type": "code",
      "source": "df.isna().sum()",
      "metadata": {
        "trusted": true
      },
      "outputs": [
        {
          "execution_count": 9,
          "output_type": "execute_result",
          "data": {
            "text/plain": "url                 0\nname                0\nprice               0\nformatted_price     0\ncurrency            0\naddress             0\nlocality            0\nregion              0\npostal_code         0\ncountry             0\nlatitude            0\nlongitude           0\ndescription         0\nbaths               0\nbeds                0\nsqft                0\nproperty_details    0\nlisted_by           0\nuniq_id             0\nscraped_at          0\ndtype: int64"
          },
          "metadata": {}
        }
      ],
      "execution_count": 9
    },
    {
      "cell_type": "code",
      "source": "df['region'].value_counts()",
      "metadata": {
        "trusted": true
      },
      "outputs": [
        {
          "execution_count": 10,
          "output_type": "execute_result",
          "data": {
            "text/plain": "AL    3\nTX    3\nOR    3\nPA    3\nNY    3\nSC    2\nAR    2\nKY    2\nWI    2\nOH    2\nCA    2\nDE    1\nMA    1\nMD    1\nGA    1\nCO    1\nTN    1\nAZ    1\nMO    1\nIL    1\nMI    1\nMN    1\nVA    1\nName: region, dtype: int64"
          },
          "metadata": {}
        }
      ],
      "execution_count": 10
    },
    {
      "cell_type": "code",
      "source": "state = await input(\"Please pick a state to Analyze: \")",
      "metadata": {
        "trusted": true
      },
      "outputs": [
        {
          "output_type": "stream",
          "name": "stdin",
          "text": "Please pick a state to Analyze:  TX\n"
        }
      ],
      "execution_count": 17
    },
    {
      "cell_type": "code",
      "source": "baths = await input(\" How many baths are you looking for: \")",
      "metadata": {
        "trusted": true
      },
      "outputs": [
        {
          "output_type": "stream",
          "name": "stdin",
          "text": " How many baths are you looking for:  3\n"
        }
      ],
      "execution_count": 13
    },
    {
      "cell_type": "code",
      "source": "df_filtered=df[df['region']==state]",
      "metadata": {
        "trusted": true
      },
      "outputs": [],
      "execution_count": 18
    },
    {
      "cell_type": "code",
      "source": "df_filtered=df_filtered[df_filtered['baths']==baths]",
      "metadata": {
        "trusted": true
      },
      "outputs": [],
      "execution_count": 19
    },
    {
      "cell_type": "code",
      "source": "df_filtered",
      "metadata": {
        "trusted": true
      },
      "outputs": [
        {
          "execution_count": 20,
          "output_type": "execute_result",
          "data": {
            "text/plain": "                                                  url                    name  \\\n2   https://www.redfin.com/TX/Unknown/1024-Indigo-...      1024 Indigo Sky St   \n32  https://www.redfin.com/TX/Conroe/11217-Triple-...  11217 Triple Crown Way   \n\n       price formatted_price currency                 address locality region  \\\n2   240950.0        $240,950      USD      1024 Indigo Sky St  El Paso     TX   \n32  657700.0        $657,700      USD  11217 Triple Crown Way   Conroe     TX   \n\n    postal_code country   latitude   longitude  \\\n2         79928      US  31.714074 -106.206967   \n32        77304      US  30.292768  -95.546425   \n\n                                          description baths  beds   sqft  \\\n2   The Myrtle by Saratoga Homes. A 1 Story, 4 Bed...     3   4.0  1,687   \n32  Beautiful Country Home on over 1 Acre with Pon...     3   4.0  3,189   \n\n                                     property_details  \\\n2   [{'Status': 'Pending'}, {'Time on Redfin': '13...   \n32  [{'Status': 'Pending'}, {'Time on Redfin': '45...   \n\n                                            listed_by  \\\n2   Listed by Octavio Duarte •TREC #0616335 • SITE...   \n32  Listed by Faline Windell •TREC #0463772 • Page...   \n\n                                 uniq_id           scraped_at  \n2   fbadbf86-3ee5-5100-a163-2acd162c43e5  17/04/2022 21:21:34  \n32  a8a012e9-3609-5b96-8e6c-b725278efba7  17/04/2022 21:21:44  ",
            "text/html": "<div>\n<style scoped>\n    .dataframe tbody tr th:only-of-type {\n        vertical-align: middle;\n    }\n\n    .dataframe tbody tr th {\n        vertical-align: top;\n    }\n\n    .dataframe thead th {\n        text-align: right;\n    }\n</style>\n<table border=\"1\" class=\"dataframe\">\n  <thead>\n    <tr style=\"text-align: right;\">\n      <th></th>\n      <th>url</th>\n      <th>name</th>\n      <th>price</th>\n      <th>formatted_price</th>\n      <th>currency</th>\n      <th>address</th>\n      <th>locality</th>\n      <th>region</th>\n      <th>postal_code</th>\n      <th>country</th>\n      <th>latitude</th>\n      <th>longitude</th>\n      <th>description</th>\n      <th>baths</th>\n      <th>beds</th>\n      <th>sqft</th>\n      <th>property_details</th>\n      <th>listed_by</th>\n      <th>uniq_id</th>\n      <th>scraped_at</th>\n    </tr>\n  </thead>\n  <tbody>\n    <tr>\n      <th>2</th>\n      <td>https://www.redfin.com/TX/Unknown/1024-Indigo-...</td>\n      <td>1024 Indigo Sky St</td>\n      <td>240950.0</td>\n      <td>$240,950</td>\n      <td>USD</td>\n      <td>1024 Indigo Sky St</td>\n      <td>El Paso</td>\n      <td>TX</td>\n      <td>79928</td>\n      <td>US</td>\n      <td>31.714074</td>\n      <td>-106.206967</td>\n      <td>The Myrtle by Saratoga Homes. A 1 Story, 4 Bed...</td>\n      <td>3</td>\n      <td>4.0</td>\n      <td>1,687</td>\n      <td>[{'Status': 'Pending'}, {'Time on Redfin': '13...</td>\n      <td>Listed by Octavio Duarte •TREC #0616335 • SITE...</td>\n      <td>fbadbf86-3ee5-5100-a163-2acd162c43e5</td>\n      <td>17/04/2022 21:21:34</td>\n    </tr>\n    <tr>\n      <th>32</th>\n      <td>https://www.redfin.com/TX/Conroe/11217-Triple-...</td>\n      <td>11217 Triple Crown Way</td>\n      <td>657700.0</td>\n      <td>$657,700</td>\n      <td>USD</td>\n      <td>11217 Triple Crown Way</td>\n      <td>Conroe</td>\n      <td>TX</td>\n      <td>77304</td>\n      <td>US</td>\n      <td>30.292768</td>\n      <td>-95.546425</td>\n      <td>Beautiful Country Home on over 1 Acre with Pon...</td>\n      <td>3</td>\n      <td>4.0</td>\n      <td>3,189</td>\n      <td>[{'Status': 'Pending'}, {'Time on Redfin': '45...</td>\n      <td>Listed by Faline Windell •TREC #0463772 • Page...</td>\n      <td>a8a012e9-3609-5b96-8e6c-b725278efba7</td>\n      <td>17/04/2022 21:21:44</td>\n    </tr>\n  </tbody>\n</table>\n</div>"
          },
          "metadata": {}
        }
      ],
      "execution_count": 20
    },
    {
      "cell_type": "code",
      "source": "df['Region",
      "metadata": {
        "trusted": true
      },
      "outputs": [],
      "execution_count": null
    }
  ]
}